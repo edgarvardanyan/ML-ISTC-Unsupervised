{
 "cells": [
  {
   "cell_type": "code",
   "execution_count": 45,
   "metadata": {},
   "outputs": [],
   "source": [
    "import numpy as np\n",
    "import random as rand\n",
    "from numpy.random import choice\n",
    "\n",
    "class KMeans:\n",
    "    def __init__(self, k):\n",
    "        self.k = k\n",
    "\n",
    "    def fit(self, data):\n",
    "        \"\"\"\n",
    "        :param data: numpy array of shape (k, ..., dims)\n",
    "        \"\"\"\n",
    "        self.dim = data.shape[-1]\n",
    "        data = np.reshape(data, (-1, self.dim))\n",
    "        self._initialize_means(data)\n",
    "        while True:\n",
    "            classes = np.empty((data.shape[0])).astype(object)\n",
    "            for i in range(data.shape[0]):\n",
    "                min_dist = float('inf')\n",
    "                for j in range(self.k):\n",
    "                    curr_dist = self.distance(data[i], self.means[j])\n",
    "                    if curr_dist <min_dist:\n",
    "                        classes[i] = j\n",
    "                        min_dist = curr_dist\n",
    "            class_count = np.zeros((self.k)).astype(float)\n",
    "            for i in range(data.shape[0]):\n",
    "                class_count[classes[i]] += 1\n",
    "            new_means = np.zeros((self.k, self.dim)).astype(float)\n",
    "            for i in range(data.shape[0]):\n",
    "                new_means[classes[i]] += data[i]/class_count[classes[i]]\n",
    "            if (np.sum((new_means-self.means)**2)/self.dim)**0.5<((data.max()-data.min())/1000):\n",
    "                self.classes = classes\n",
    "                break\n",
    "            else:\n",
    "                self.means = new_means\n",
    "\n",
    "    def _initialize_means(self, data):\n",
    "        centers = rand.sample(range(0, data.shape[0]), self.k)\n",
    "        self.means = np.zeros((self.k, data.shape[1]))\n",
    "        for i in range(self.k):\n",
    "            self.means[i] = data[centers[i]]\n",
    "\n",
    "    def predict(self, data):\n",
    "        \"\"\"\n",
    "        :param data: numpy array of shape (k, ..., dims)\n",
    "        :return: labels of each datapoint and it's mean\n",
    "                 0 <= labels[i] <= k - 1\n",
    "        \"\"\"\n",
    "        classes = np.empty((data.shape[0])).astype(int)\n",
    "        for i in range(data.shape[0]):\n",
    "            min_dist = float('inf')\n",
    "            for j in range(self.k):\n",
    "                curr_dist = self.distance(data[i], self.means[j])\n",
    "                if curr_dist<min_dist:\n",
    "                    classes[i] = j\n",
    "                    min_dist = curr_dist\n",
    "        means = self.means[classes]\n",
    "        return classes, means\n",
    "    \n",
    "    def distance(self, vect1, vect2):\n",
    "        return np.sum((vect1-vect2)**2)**0.5\n",
    "\n",
    "def KMeansPlusPlus(KMeans):\n",
    "    def _initialize_means(self, data):\n",
    "        centers = np.zeros((self.k,))\n",
    "        centers[0] = choice(range(0, data.shape[0]))\n",
    "        for i in range(1, self.k):\n",
    "            weights = np.zeros((data.shape[0],))\n",
    "            for k in range(data.shape[0]):\n",
    "                min_dist = float('inf')\n",
    "                for j in range(i):\n",
    "                    curr_dist = self.distance(data[centers[j]], data[k])\n",
    "                    if curr_dist<min_dist:\n",
    "                        min_dist = curr_dist\n",
    "                weights[k] = min_dist\n",
    "            weights = weights/np.sum(weights)\n",
    "            centers[i] = choice(range(0, data.shape[0]), p = weights)\n",
    "        self.means = data[centers]\n"
   ]
  },
  {
   "cell_type": "code",
   "execution_count": 43,
   "metadata": {},
   "outputs": [
    {
     "data": {
      "text/plain": [
       "['a', 'b', 'f']"
      ]
     },
     "execution_count": 43,
     "metadata": {},
     "output_type": "execute_result"
    }
   ],
   "source": [
    "rand.sample(['a','b','c','d','e','f'], 3)"
   ]
  },
  {
   "cell_type": "code",
   "execution_count": null,
   "metadata": {},
   "outputs": [],
   "source": []
  }
 ],
 "metadata": {
  "kernelspec": {
   "display_name": "Python 3",
   "language": "python",
   "name": "python3"
  },
  "language_info": {
   "codemirror_mode": {
    "name": "ipython",
    "version": 3
   },
   "file_extension": ".py",
   "mimetype": "text/x-python",
   "name": "python",
   "nbconvert_exporter": "python",
   "pygments_lexer": "ipython3",
   "version": "3.6.4"
  }
 },
 "nbformat": 4,
 "nbformat_minor": 2
}
