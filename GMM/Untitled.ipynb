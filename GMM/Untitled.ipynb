{
 "cells": [
  {
   "cell_type": "code",
   "execution_count": 5,
   "metadata": {},
   "outputs": [],
   "source": [
    "import numpy as np\n",
    "from k_means import KMeans\n",
    "\n",
    "class GMM:\n",
    "    def __init__(self, k):\n",
    "        self.k = k\n",
    "        self.means = []\n",
    "        self.covariances = []\n",
    "        self.pis = []\n",
    "        self.gammas = []\n",
    "\n",
    "    def fit(self, data):\n",
    "        \"\"\"\n",
    "        :params data: np.array of shape (..., dim)\n",
    "                                  where dim is number of dimensions of point\n",
    "        \"\"\"\n",
    "        self._initialize_params(data)\n",
    "        while True:  # TODO: fix\n",
    "            self._E_step(data)\n",
    "            self._M_step(data)\n",
    "\n",
    "    def _initialize_params(self, data):\n",
    "        km = KMeans()\n",
    "        km.fit(data)\n",
    "        self.dim = data.shape[-1]\n",
    "        _, self.means = km.predict()\n",
    "        self.pis = np.random.rand((k,))\n",
    "        self.pis = self.pis/np.sum(self.pis)\n",
    "        self.covariances = np.array([np.eye(self.dim)] * self.k)\n",
    "\n",
    "    def _E_step(data):\n",
    "        # TODO: find gammas from means, covariances, pis\n",
    "        self.gammas = []\n",
    "\n",
    "    def _M_step(data):\n",
    "        # TODO: find means, covariances, pis from gammas\n",
    "        pass\n",
    "\n",
    "    def predict(self, data):\n",
    "        \"\"\"\n",
    "        :param data: np.array of shape (..., dim)\n",
    "        :return: np.array of shape (...) without dims\n",
    "                         each element is integer from 0 to k-1\n",
    "        \"\"\"\n",
    "        pass\n",
    "\n",
    "    def get_means(self):\n",
    "        return self.means.copy()\n",
    "\n",
    "    def get_covariances(self):\n",
    "        return self.covariances.copy()\n",
    "\n",
    "    def get_pis(self):\n",
    "        return self.pis.copy()\n"
   ]
  },
  {
   "cell_type": "code",
   "execution_count": null,
   "metadata": {},
   "outputs": [],
   "source": []
  },
  {
   "cell_type": "code",
   "execution_count": null,
   "metadata": {},
   "outputs": [],
   "source": []
  }
 ],
 "metadata": {
  "kernelspec": {
   "display_name": "Python 3",
   "language": "python",
   "name": "python3"
  },
  "language_info": {
   "codemirror_mode": {
    "name": "ipython",
    "version": 3
   },
   "file_extension": ".py",
   "mimetype": "text/x-python",
   "name": "python",
   "nbconvert_exporter": "python",
   "pygments_lexer": "ipython3",
   "version": "3.6.4"
  }
 },
 "nbformat": 4,
 "nbformat_minor": 2
}
