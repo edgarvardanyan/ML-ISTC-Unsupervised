{
 "cells": [
  {
   "cell_type": "code",
   "execution_count": 1,
   "metadata": {},
   "outputs": [],
   "source": [
    "import numpy as np\n",
    "from k_means import KMeans\n",
    "from scipy.stats import multivariate_normal\n",
    "\n",
    "class GMM:\n",
    "    def __init__(self, k):\n",
    "        self.k = k\n",
    "        self.means = []\n",
    "        self.covariances = []\n",
    "        self.pis = []\n",
    "        self.gammas = np.zeros((data.shape[0], self.k))\n",
    "\n",
    "    def fit(self, data):\n",
    "        \"\"\"\n",
    "        :params data: np.array of shape (..., dim)\n",
    "                                  where dim is number of dimensions of point\n",
    "        \"\"\"\n",
    "        self._initialize_params(data)\n",
    "        old_log = self.log_likelihood(data)\n",
    "        while True:\n",
    "            self._E_step(data)\n",
    "            self._M_step(data)\n",
    "            new_log = self.log_likelihood(data)\n",
    "            if (new_log - old_log) > 1:\n",
    "                old_log = new_log\n",
    "            else:\n",
    "                break\n",
    "\n",
    "    def _initialize_params(self, data):\n",
    "        km = KMeans(self.k)\n",
    "        km.fit(data)\n",
    "        self.dim = data.shape[-1]\n",
    "        _, self.means = km.predict(data)\n",
    "        self.means = np.unique(self.means, axis = 0) #potential bug\n",
    "        self.pis = np.random.rand((k,))\n",
    "        self.pis = self.pis/np.sum(self.pis)\n",
    "        self.covariances = np.array([np.eye(self.dim)] * self.k)\n",
    "\n",
    "    def _E_step(data):\n",
    "        for i in range(data.shape[0]):\n",
    "            for k in range(self.k):\n",
    "                a = multivariate_normal(self.means[k], self.covariances[k])\n",
    "                self.gammas[i][k] = self.pis[k] * a.pdf(data[i])\n",
    "        self.gammas = self.gammas/np.sum(self.gammas, axis = 1)[None].T\n",
    "\n",
    "    def _M_step(data):\n",
    "        for k in range(self.k):\n",
    "            self.means[i] = np.dot(self.gammas[:,k].T, data)/np.sum(self.gammas[:,k])\n",
    "            self.covariances[i] = np.zeros((self.dim, self.dim))\n",
    "            for i in range(data.shape[0]):\n",
    "                self.covariances[i] += self.gammas[i][k] * np.dot((data[i]-self.means[k])[None].T, (data[i]-self.means[k]))\n",
    "            self.covariances[i] /= np.sum(self.gammas[:,k])\n",
    "            self.pis[k] = np.sum(self.gammas[:,k]) / data.shape[0]\n",
    "\n",
    "    def predict(self, data):\n",
    "        new_gammas = np.zeros((data.shape[0], self.k))\n",
    "        for i in range(data.shape[0]):\n",
    "            for k in range(self.k):\n",
    "                a = multivariate_normal(self.means[k], self.covariances[k])\n",
    "                new_gammas[i][k] = self.pis[k] * a.pdf(data[i])\n",
    "        new_gammas = new_gammas/np.sum(new_gammas, axis = 1)[None].T\n",
    "        classes = np.argmax(new_gammas, axis = 1)\n",
    "        return classes\n",
    "\n",
    "    def get_means(self):\n",
    "        return self.means.copy()\n",
    "\n",
    "    def get_covariances(self):\n",
    "        return self.covariances.copy()\n",
    "\n",
    "    def get_pis(self):\n",
    "        return self.pis.copy()\n",
    "    \n",
    "    def log_likelihood(self, data):\n",
    "        return np.sum(np.log(np.sum(self.gammas * self.pis, axis = 1)))\n",
    "                "
   ]
  },
  {
   "cell_type": "code",
   "execution_count": 5,
   "metadata": {},
   "outputs": [
    {
     "data": {
      "text/plain": [
       "array([[[1., 0.],\n",
       "        [0., 1.]],\n",
       "\n",
       "       [[1., 0.],\n",
       "        [0., 1.]],\n",
       "\n",
       "       [[1., 0.],\n",
       "        [0., 1.]],\n",
       "\n",
       "       [[1., 0.],\n",
       "        [0., 1.]],\n",
       "\n",
       "       [[1., 0.],\n",
       "        [0., 1.]]])"
      ]
     },
     "execution_count": 5,
     "metadata": {},
     "output_type": "execute_result"
    }
   ],
   "source": [
    "np.array([np.eye(2)] * 5)"
   ]
  },
  {
   "cell_type": "code",
   "execution_count": 3,
   "metadata": {},
   "outputs": [
    {
     "data": {
      "text/plain": [
       "[]"
      ]
     },
     "execution_count": 3,
     "metadata": {},
     "output_type": "execute_result"
    }
   ],
   "source": [
    "g.covariances"
   ]
  },
  {
   "cell_type": "code",
   "execution_count": 15,
   "metadata": {},
   "outputs": [],
   "source": [
    "a = np.load('data.npy')"
   ]
  },
  {
   "cell_type": "code",
   "execution_count": 30,
   "metadata": {},
   "outputs": [],
   "source": [
    "g.fit(a)"
   ]
  },
  {
   "cell_type": "code",
   "execution_count": 31,
   "metadata": {},
   "outputs": [],
   "source": [
    "c, m = g.predict(a)"
   ]
  },
  {
   "cell_type": "code",
   "execution_count": 32,
   "metadata": {},
   "outputs": [
    {
     "data": {
      "text/plain": [
       "array([[-7.68954908,  1.33610247],\n",
       "       [-6.75782298,  4.78177533],\n",
       "       [-3.1899341 ,  1.90014879],\n",
       "       [ 0.63595459,  5.69909998],\n",
       "       [ 4.95283136, -1.35982523]])"
      ]
     },
     "execution_count": 32,
     "metadata": {},
     "output_type": "execute_result"
    }
   ],
   "source": [
    "np.unique(m, axis = 0)"
   ]
  },
  {
   "cell_type": "code",
   "execution_count": 24,
   "metadata": {},
   "outputs": [
    {
     "data": {
      "text/plain": [
       "array([ 4.95283136, -1.35982523])"
      ]
     },
     "execution_count": 24,
     "metadata": {},
     "output_type": "execute_result"
    }
   ],
   "source": [
    "m[0]"
   ]
  },
  {
   "cell_type": "code",
   "execution_count": 6,
   "metadata": {},
   "outputs": [],
   "source": [
    "from scipy.stats import multivariate_normal"
   ]
  },
  {
   "cell_type": "code",
   "execution_count": 13,
   "metadata": {},
   "outputs": [],
   "source": [
    "a = multivariate_normal(np.array([0,0]), np.array([[1,0],[0,1]]))"
   ]
  },
  {
   "cell_type": "code",
   "execution_count": 14,
   "metadata": {},
   "outputs": [
    {
     "data": {
      "text/plain": [
       "0.09653235263005393"
      ]
     },
     "execution_count": 14,
     "metadata": {},
     "output_type": "execute_result"
    }
   ],
   "source": [
    "a.pdf([0,-1])"
   ]
  },
  {
   "cell_type": "code",
   "execution_count": 22,
   "metadata": {},
   "outputs": [],
   "source": [
    "a = np.array([[1,2],[3,6]])\n",
    "a = a/np.sum(a, axis = 1)[None].T"
   ]
  },
  {
   "cell_type": "code",
   "execution_count": 23,
   "metadata": {},
   "outputs": [
    {
     "data": {
      "text/plain": [
       "array([[0.33333333, 0.66666667],\n",
       "       [0.33333333, 0.66666667]])"
      ]
     },
     "execution_count": 23,
     "metadata": {},
     "output_type": "execute_result"
    }
   ],
   "source": [
    "a"
   ]
  },
  {
   "cell_type": "code",
   "execution_count": 33,
   "metadata": {},
   "outputs": [
    {
     "data": {
      "text/plain": [
       "array([13,  9])"
      ]
     },
     "execution_count": 33,
     "metadata": {},
     "output_type": "execute_result"
    }
   ],
   "source": [
    "a = np.array([[1,12],[3,6]])\n",
    "np.sum(a, axis = 1)"
   ]
  },
  {
   "cell_type": "code",
   "execution_count": 34,
   "metadata": {},
   "outputs": [
    {
     "data": {
      "text/plain": [
       "array([[ 1, 12],\n",
       "       [ 3,  6]])"
      ]
     },
     "execution_count": 34,
     "metadata": {},
     "output_type": "execute_result"
    }
   ],
   "source": [
    "a"
   ]
  },
  {
   "cell_type": "code",
   "execution_count": 37,
   "metadata": {},
   "outputs": [
    {
     "data": {
      "text/plain": [
       "array([1, 1], dtype=int64)"
      ]
     },
     "execution_count": 37,
     "metadata": {},
     "output_type": "execute_result"
    }
   ],
   "source": [
    "np.argmax(a, axis = 1)"
   ]
  },
  {
   "cell_type": "code",
   "execution_count": null,
   "metadata": {},
   "outputs": [],
   "source": [
    "np.random.uniform()"
   ]
  }
 ],
 "metadata": {
  "kernelspec": {
   "display_name": "Python 3",
   "language": "python",
   "name": "python3"
  },
  "language_info": {
   "codemirror_mode": {
    "name": "ipython",
    "version": 3
   },
   "file_extension": ".py",
   "mimetype": "text/x-python",
   "name": "python",
   "nbconvert_exporter": "python",
   "pygments_lexer": "ipython3",
   "version": "3.6.4"
  }
 },
 "nbformat": 4,
 "nbformat_minor": 2
}
