{
 "cells": [
  {
   "cell_type": "code",
   "execution_count": 12,
   "metadata": {},
   "outputs": [],
   "source": [
    "import numpy as np\n",
    "from k_means import KMeans\n",
    "\n",
    "class GMM:\n",
    "    def __init__(self, k):\n",
    "        self.k = k\n",
    "        self.means = []\n",
    "        self.covariances = []\n",
    "        self.pis = []\n",
    "        self.gammas = []\n",
    "\n",
    "    def fit(self, data):\n",
    "        \"\"\"\n",
    "        :params data: np.array of shape (..., dim)\n",
    "                                  where dim is number of dimensions of point\n",
    "        \"\"\"\n",
    "        self._initialize_params(data)\n",
    "        while True:  # TODO: fix\n",
    "            self._E_step(data)\n",
    "            self._M_step(data)\n",
    "\n",
    "    def _initialize_params(self, data):\n",
    "        km = KMeans(self.k)\n",
    "        km.fit(data)\n",
    "        self.dim = data.shape[-1]\n",
    "        _, self.means = km.predict(data)\n",
    "        self.means = np.unique(self.means, axis = 0)\n",
    "        self.pis = np.random.rand((k,))\n",
    "        self.pis = self.pis/np.sum(self.pis)\n",
    "        self.covariances = np.array([np.eye(self.dim)] * self.k)\n",
    "\n",
    "    def _E_step(data):\n",
    "        # TODO: find gammas from means, covariances, pis\n",
    "        self.gammas = []\n",
    "\n",
    "    def _M_step(data):\n",
    "        # TODO: find means, covariances, pis from gammas\n",
    "        pass\n",
    "\n",
    "    def predict(self, data):\n",
    "        \"\"\"\n",
    "        :param data: np.array of shape (..., dim)\n",
    "        :return: np.array of shape (...) without dims\n",
    "                         each element is integer from 0 to k-1\n",
    "        \"\"\"\n",
    "        pass\n",
    "\n",
    "    def get_means(self):\n",
    "        return self.means.copy()\n",
    "\n",
    "    def get_covariances(self):\n",
    "        return self.covariances.copy()\n",
    "\n",
    "    def get_pis(self):\n",
    "        return self.pis.copy()\n"
   ]
  },
  {
   "cell_type": "code",
   "execution_count": 13,
   "metadata": {},
   "outputs": [],
   "source": [
    "g = KMeans(5)"
   ]
  },
  {
   "cell_type": "code",
   "execution_count": 14,
   "metadata": {},
   "outputs": [
    {
     "ename": "AttributeError",
     "evalue": "'KMeans' object has no attribute 'retur_means'",
     "output_type": "error",
     "traceback": [
      "\u001b[1;31m---------------------------------------------------------------------------\u001b[0m",
      "\u001b[1;31mAttributeError\u001b[0m                            Traceback (most recent call last)",
      "\u001b[1;32m<ipython-input-14-0530d8d58818>\u001b[0m in \u001b[0;36m<module>\u001b[1;34m()\u001b[0m\n\u001b[1;32m----> 1\u001b[1;33m \u001b[0mg\u001b[0m\u001b[1;33m.\u001b[0m\u001b[0mretur_means\u001b[0m\u001b[1;33m(\u001b[0m\u001b[1;33m)\u001b[0m\u001b[1;33m\u001b[0m\u001b[0m\n\u001b[0m",
      "\u001b[1;31mAttributeError\u001b[0m: 'KMeans' object has no attribute 'retur_means'"
     ]
    }
   ],
   "source": [
    "g.retur_means()"
   ]
  },
  {
   "cell_type": "code",
   "execution_count": 15,
   "metadata": {},
   "outputs": [],
   "source": [
    "a = np.load('data.npy')"
   ]
  },
  {
   "cell_type": "code",
   "execution_count": 30,
   "metadata": {},
   "outputs": [],
   "source": [
    "g.fit(a)"
   ]
  },
  {
   "cell_type": "code",
   "execution_count": 31,
   "metadata": {},
   "outputs": [],
   "source": [
    "c, m = g.predict(a)"
   ]
  },
  {
   "cell_type": "code",
   "execution_count": 32,
   "metadata": {},
   "outputs": [
    {
     "data": {
      "text/plain": [
       "array([[-7.68954908,  1.33610247],\n",
       "       [-6.75782298,  4.78177533],\n",
       "       [-3.1899341 ,  1.90014879],\n",
       "       [ 0.63595459,  5.69909998],\n",
       "       [ 4.95283136, -1.35982523]])"
      ]
     },
     "execution_count": 32,
     "metadata": {},
     "output_type": "execute_result"
    }
   ],
   "source": [
    "np.unique(m, axis = 0)"
   ]
  },
  {
   "cell_type": "code",
   "execution_count": 24,
   "metadata": {},
   "outputs": [
    {
     "data": {
      "text/plain": [
       "array([ 4.95283136, -1.35982523])"
      ]
     },
     "execution_count": 24,
     "metadata": {},
     "output_type": "execute_result"
    }
   ],
   "source": [
    "m[0]"
   ]
  },
  {
   "cell_type": "code",
   "execution_count": null,
   "metadata": {},
   "outputs": [],
   "source": []
  }
 ],
 "metadata": {
  "kernelspec": {
   "display_name": "Python 3",
   "language": "python",
   "name": "python3"
  },
  "language_info": {
   "codemirror_mode": {
    "name": "ipython",
    "version": 3
   },
   "file_extension": ".py",
   "mimetype": "text/x-python",
   "name": "python",
   "nbconvert_exporter": "python",
   "pygments_lexer": "ipython3",
   "version": "3.6.4"
  }
 },
 "nbformat": 4,
 "nbformat_minor": 2
}
